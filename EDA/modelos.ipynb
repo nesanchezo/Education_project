{
 "cells": [
  {
   "cell_type": "code",
   "execution_count": 1,
   "id": "4a74940b",
   "metadata": {},
   "outputs": [],
   "source": [
    "import pandas as pd\n",
    "import matplotlib.pyplot as plt\n",
    "import numpy as np\n",
    "import seaborn as sns"
   ]
  },
  {
   "cell_type": "code",
   "execution_count": 2,
   "id": "1f37be32",
   "metadata": {},
   "outputs": [],
   "source": [
    "df = pd.read_csv('data_model.csv')"
   ]
  },
  {
   "cell_type": "code",
   "execution_count": 3,
   "id": "8b1b2f61",
   "metadata": {},
   "outputs": [
    {
     "data": {
      "text/html": [
       "<div>\n",
       "<style scoped>\n",
       "    .dataframe tbody tr th:only-of-type {\n",
       "        vertical-align: middle;\n",
       "    }\n",
       "\n",
       "    .dataframe tbody tr th {\n",
       "        vertical-align: top;\n",
       "    }\n",
       "\n",
       "    .dataframe thead th {\n",
       "        text-align: right;\n",
       "    }\n",
       "</style>\n",
       "<table border=\"1\" class=\"dataframe\">\n",
       "  <thead>\n",
       "    <tr style=\"text-align: right;\">\n",
       "      <th></th>\n",
       "      <th>nombre</th>\n",
       "      <th>Ciencias naturales-nota_p1</th>\n",
       "      <th>Ciencias naturales-nota_p2</th>\n",
       "      <th>Ciencias naturales-nota_p3</th>\n",
       "      <th>Ciencias naturales-nota_p4</th>\n",
       "      <th>Ciencias sociales-nota_p1</th>\n",
       "      <th>Ciencias sociales-nota_p2</th>\n",
       "      <th>Ciencias sociales-nota_p3</th>\n",
       "      <th>Ciencias sociales-nota_p4</th>\n",
       "      <th>Educación artística-nota_p1</th>\n",
       "      <th>...</th>\n",
       "      <th>Tecnología e informática-nota_p3</th>\n",
       "      <th>Tecnología e informática-nota_p4</th>\n",
       "      <th>Humanidades-nota_p1</th>\n",
       "      <th>Humanidades-nota_p2</th>\n",
       "      <th>Humanidades-nota_p3</th>\n",
       "      <th>Humanidades-nota_p4</th>\n",
       "      <th>fecha</th>\n",
       "      <th>segment</th>\n",
       "      <th>firstLabel</th>\n",
       "      <th>secondLabel</th>\n",
       "    </tr>\n",
       "  </thead>\n",
       "  <tbody>\n",
       "    <tr>\n",
       "      <th>0</th>\n",
       "      <td>ACEVEDO MOLANO MATIAS</td>\n",
       "      <td>3.0</td>\n",
       "      <td>4.0</td>\n",
       "      <td>4.0</td>\n",
       "      <td>4.0</td>\n",
       "      <td>3.0</td>\n",
       "      <td>4.0</td>\n",
       "      <td>4.0</td>\n",
       "      <td>4.0</td>\n",
       "      <td>3.0</td>\n",
       "      <td>...</td>\n",
       "      <td>3.0</td>\n",
       "      <td>3.0</td>\n",
       "      <td>3.0</td>\n",
       "      <td>3.0</td>\n",
       "      <td>3.0</td>\n",
       "      <td>4.0</td>\n",
       "      <td>2021-03-01</td>\n",
       "      <td>SEGUNDO</td>\n",
       "      <td>GreenFlag</td>\n",
       "      <td>WhiteFlag</td>\n",
       "    </tr>\n",
       "    <tr>\n",
       "      <th>1</th>\n",
       "      <td>ACEVEDO MOLANO THOMAS</td>\n",
       "      <td>3.0</td>\n",
       "      <td>4.0</td>\n",
       "      <td>4.0</td>\n",
       "      <td>4.0</td>\n",
       "      <td>3.0</td>\n",
       "      <td>3.0</td>\n",
       "      <td>3.0</td>\n",
       "      <td>4.0</td>\n",
       "      <td>3.0</td>\n",
       "      <td>...</td>\n",
       "      <td>3.0</td>\n",
       "      <td>3.0</td>\n",
       "      <td>3.0</td>\n",
       "      <td>3.0</td>\n",
       "      <td>3.0</td>\n",
       "      <td>3.0</td>\n",
       "      <td>2021-03-01</td>\n",
       "      <td>QUINTO</td>\n",
       "      <td>GreenFlag</td>\n",
       "      <td>WhiteFlag</td>\n",
       "    </tr>\n",
       "    <tr>\n",
       "      <th>2</th>\n",
       "      <td>ACEVEDO VELEZ MARIA FERNANDA</td>\n",
       "      <td>3.0</td>\n",
       "      <td>3.0</td>\n",
       "      <td>4.0</td>\n",
       "      <td>4.0</td>\n",
       "      <td>4.0</td>\n",
       "      <td>3.0</td>\n",
       "      <td>2.0</td>\n",
       "      <td>3.0</td>\n",
       "      <td>3.0</td>\n",
       "      <td>...</td>\n",
       "      <td>2.0</td>\n",
       "      <td>4.0</td>\n",
       "      <td>3.0</td>\n",
       "      <td>3.0</td>\n",
       "      <td>3.0</td>\n",
       "      <td>3.0</td>\n",
       "      <td>2021-03-01</td>\n",
       "      <td>DIEZ</td>\n",
       "      <td>GreenFlag</td>\n",
       "      <td>YellowFlag</td>\n",
       "    </tr>\n",
       "    <tr>\n",
       "      <th>3</th>\n",
       "      <td>ACOSTA BASTO SARA SOFIA</td>\n",
       "      <td>3.0</td>\n",
       "      <td>3.0</td>\n",
       "      <td>3.0</td>\n",
       "      <td>3.0</td>\n",
       "      <td>3.0</td>\n",
       "      <td>3.0</td>\n",
       "      <td>3.0</td>\n",
       "      <td>3.0</td>\n",
       "      <td>3.0</td>\n",
       "      <td>...</td>\n",
       "      <td>3.0</td>\n",
       "      <td>3.0</td>\n",
       "      <td>3.0</td>\n",
       "      <td>4.0</td>\n",
       "      <td>4.0</td>\n",
       "      <td>3.0</td>\n",
       "      <td>2021-03-01</td>\n",
       "      <td>TERCERO</td>\n",
       "      <td>GreenFlag</td>\n",
       "      <td>WhiteFlag</td>\n",
       "    </tr>\n",
       "    <tr>\n",
       "      <th>4</th>\n",
       "      <td>AGUDELO ARANGO FEDERICO</td>\n",
       "      <td>4.0</td>\n",
       "      <td>2.0</td>\n",
       "      <td>2.0</td>\n",
       "      <td>2.0</td>\n",
       "      <td>4.0</td>\n",
       "      <td>3.0</td>\n",
       "      <td>2.0</td>\n",
       "      <td>2.0</td>\n",
       "      <td>4.0</td>\n",
       "      <td>...</td>\n",
       "      <td>4.0</td>\n",
       "      <td>4.0</td>\n",
       "      <td>3.0</td>\n",
       "      <td>2.0</td>\n",
       "      <td>2.0</td>\n",
       "      <td>3.0</td>\n",
       "      <td>2021-03-01</td>\n",
       "      <td>OCHO</td>\n",
       "      <td>GreenFlag</td>\n",
       "      <td>OrangeFlag</td>\n",
       "    </tr>\n",
       "  </tbody>\n",
       "</table>\n",
       "<p>5 rows × 45 columns</p>\n",
       "</div>"
      ],
      "text/plain": [
       "                         nombre  Ciencias naturales-nota_p1  \\\n",
       "0         ACEVEDO MOLANO MATIAS                         3.0   \n",
       "1         ACEVEDO MOLANO THOMAS                         3.0   \n",
       "2  ACEVEDO VELEZ MARIA FERNANDA                         3.0   \n",
       "3       ACOSTA BASTO SARA SOFIA                         3.0   \n",
       "4       AGUDELO ARANGO FEDERICO                         4.0   \n",
       "\n",
       "   Ciencias naturales-nota_p2  Ciencias naturales-nota_p3  \\\n",
       "0                         4.0                         4.0   \n",
       "1                         4.0                         4.0   \n",
       "2                         3.0                         4.0   \n",
       "3                         3.0                         3.0   \n",
       "4                         2.0                         2.0   \n",
       "\n",
       "   Ciencias naturales-nota_p4  Ciencias sociales-nota_p1  \\\n",
       "0                         4.0                        3.0   \n",
       "1                         4.0                        3.0   \n",
       "2                         4.0                        4.0   \n",
       "3                         3.0                        3.0   \n",
       "4                         2.0                        4.0   \n",
       "\n",
       "   Ciencias sociales-nota_p2  Ciencias sociales-nota_p3  \\\n",
       "0                        4.0                        4.0   \n",
       "1                        3.0                        3.0   \n",
       "2                        3.0                        2.0   \n",
       "3                        3.0                        3.0   \n",
       "4                        3.0                        2.0   \n",
       "\n",
       "   Ciencias sociales-nota_p4  Educación artística-nota_p1  ...  \\\n",
       "0                        4.0                          3.0  ...   \n",
       "1                        4.0                          3.0  ...   \n",
       "2                        3.0                          3.0  ...   \n",
       "3                        3.0                          3.0  ...   \n",
       "4                        2.0                          4.0  ...   \n",
       "\n",
       "   Tecnología e informática-nota_p3  Tecnología e informática-nota_p4  \\\n",
       "0                               3.0                               3.0   \n",
       "1                               3.0                               3.0   \n",
       "2                               2.0                               4.0   \n",
       "3                               3.0                               3.0   \n",
       "4                               4.0                               4.0   \n",
       "\n",
       "   Humanidades-nota_p1  Humanidades-nota_p2  Humanidades-nota_p3  \\\n",
       "0                  3.0                  3.0                  3.0   \n",
       "1                  3.0                  3.0                  3.0   \n",
       "2                  3.0                  3.0                  3.0   \n",
       "3                  3.0                  4.0                  4.0   \n",
       "4                  3.0                  2.0                  2.0   \n",
       "\n",
       "   Humanidades-nota_p4       fecha  segment  firstLabel  secondLabel  \n",
       "0                  4.0  2021-03-01  SEGUNDO   GreenFlag    WhiteFlag  \n",
       "1                  3.0  2021-03-01   QUINTO   GreenFlag    WhiteFlag  \n",
       "2                  3.0  2021-03-01     DIEZ   GreenFlag   YellowFlag  \n",
       "3                  3.0  2021-03-01  TERCERO   GreenFlag    WhiteFlag  \n",
       "4                  3.0  2021-03-01     OCHO   GreenFlag   OrangeFlag  \n",
       "\n",
       "[5 rows x 45 columns]"
      ]
     },
     "execution_count": 3,
     "metadata": {},
     "output_type": "execute_result"
    }
   ],
   "source": [
    "df.head()"
   ]
  },
  {
   "cell_type": "code",
   "execution_count": 4,
   "id": "32f95383",
   "metadata": {},
   "outputs": [
    {
     "name": "stdout",
     "output_type": "stream",
     "text": [
      "<class 'pandas.core.frame.DataFrame'>\n",
      "RangeIndex: 26363 entries, 0 to 26362\n",
      "Data columns (total 45 columns):\n",
      " #   Column                              Non-Null Count  Dtype  \n",
      "---  ------                              --------------  -----  \n",
      " 0   nombre                              26363 non-null  object \n",
      " 1   Ciencias naturales-nota_p1          26363 non-null  float64\n",
      " 2   Ciencias naturales-nota_p2          26363 non-null  float64\n",
      " 3   Ciencias naturales-nota_p3          26363 non-null  float64\n",
      " 4   Ciencias naturales-nota_p4          26363 non-null  float64\n",
      " 5   Ciencias sociales-nota_p1           26363 non-null  float64\n",
      " 6   Ciencias sociales-nota_p2           26363 non-null  float64\n",
      " 7   Ciencias sociales-nota_p3           26363 non-null  float64\n",
      " 8   Ciencias sociales-nota_p4           26363 non-null  float64\n",
      " 9   Educación artística-nota_p1         26363 non-null  float64\n",
      " 10  Educación artística-nota_p2         26363 non-null  float64\n",
      " 11  Educación artística-nota_p3         26363 non-null  float64\n",
      " 12  Educación artística-nota_p4         26363 non-null  float64\n",
      " 13  Educación física-nota_p1            26363 non-null  float64\n",
      " 14  Educación física-nota_p2            26363 non-null  float64\n",
      " 15  Educación física-nota_p3            26363 non-null  float64\n",
      " 16  Educación física-nota_p4            26363 non-null  float64\n",
      " 17  Lengua castellana-nota_p1           26363 non-null  float64\n",
      " 18  Lengua castellana-nota_p2           26363 non-null  float64\n",
      " 19  Lengua castellana-nota_p3           26363 non-null  float64\n",
      " 20  Lengua castellana-nota_p4           26363 non-null  float64\n",
      " 21  Idioma extranjero-nota_p1           26363 non-null  float64\n",
      " 22  Idioma extranjero-nota_p2           26363 non-null  float64\n",
      " 23  Idioma extranjero-nota_p3           26363 non-null  float64\n",
      " 24  Idioma extranjero-nota_p4           26363 non-null  float64\n",
      " 25  Matemáticas-nota_p1                 26363 non-null  float64\n",
      " 26  Matemáticas-nota_p2                 26363 non-null  float64\n",
      " 27  Matemáticas-nota_p3                 26363 non-null  float64\n",
      " 28  Matemáticas-nota_p4                 26363 non-null  float64\n",
      " 29  Sensibilización Pedagógica-nota_p1  26363 non-null  float64\n",
      " 30  Sensibilización Pedagógica-nota_p2  26363 non-null  float64\n",
      " 31  Sensibilización Pedagógica-nota_p3  26363 non-null  float64\n",
      " 32  Sensibilización Pedagógica-nota_p4  26363 non-null  float64\n",
      " 33  Tecnología e informática-nota_p1    26363 non-null  float64\n",
      " 34  Tecnología e informática-nota_p2    26363 non-null  float64\n",
      " 35  Tecnología e informática-nota_p3    26363 non-null  float64\n",
      " 36  Tecnología e informática-nota_p4    26363 non-null  float64\n",
      " 37  Humanidades-nota_p1                 26363 non-null  float64\n",
      " 38  Humanidades-nota_p2                 26363 non-null  float64\n",
      " 39  Humanidades-nota_p3                 26363 non-null  float64\n",
      " 40  Humanidades-nota_p4                 26363 non-null  float64\n",
      " 41  fecha                               26363 non-null  object \n",
      " 42  segment                             26363 non-null  object \n",
      " 43  firstLabel                          26363 non-null  object \n",
      " 44  secondLabel                         26363 non-null  object \n",
      "dtypes: float64(40), object(5)\n",
      "memory usage: 9.1+ MB\n"
     ]
    }
   ],
   "source": [
    "df.info()"
   ]
  },
  {
   "cell_type": "markdown",
   "id": "860425e0",
   "metadata": {},
   "source": [
    "# MODELOS"
   ]
  },
  {
   "cell_type": "code",
   "execution_count": 5,
   "id": "fb145fef",
   "metadata": {},
   "outputs": [],
   "source": [
    "def data_split(examples, labels, train_frac, random_state=None):\n",
    "    ''' https://scikit-learn.org/stable/modules/generated/sklearn.model_selection.train_test_split.html\n",
    "    param data:       Data to be split\n",
    "    param train_frac: Ratio of train set to whole dataset\n",
    "\n",
    "    Randomly split dataset, based on these ratios:\n",
    "        'train': train_frac\n",
    "        'valid': (1-train_frac) / 2\n",
    "        'test':  (1-train_frac) / 2\n",
    "\n",
    "    Eg: passing train_frac=0.8 gives a 80% / 10% / 10% split\n",
    "    '''\n",
    "\n",
    "    assert train_frac >= 0 and train_frac <= 1, \"Invalid training set fraction\"\n",
    "\n",
    "    X_train, X_tmp, Y_train, Y_tmp = train_test_split(\n",
    "                                        examples, labels, train_size=train_frac, random_state=random_state)\n",
    "\n",
    "    X_val, X_test, Y_val, Y_test   = train_test_split(\n",
    "                                        X_tmp, Y_tmp, train_size=0.5, random_state=random_state)\n",
    "\n",
    "    return X_train, X_val, X_test,  Y_train, Y_val, Y_test"
   ]
  },
  {
   "cell_type": "code",
   "execution_count": 6,
   "id": "3e6ff56e",
   "metadata": {},
   "outputs": [],
   "source": [
    "def confu_matrix(y_test,y_pred):\n",
    "\tdf = pd.DataFrame(list(zip(y_test,y_pred)), columns = ['y_test','y_pred'])\n",
    "\tconfusion_matrix = pd.crosstab(df['y_test'], df['y_pred'], rownames=['Actual'], colnames=['Predicted'])\n",
    "\tsns.heatmap(confusion_matrix, annot=True)\n",
    "\tplt.show()"
   ]
  },
  {
   "cell_type": "markdown",
   "id": "bf1f91d0",
   "metadata": {},
   "source": [
    "## XGBClassifier"
   ]
  },
  {
   "cell_type": "code",
   "execution_count": 7,
   "id": "5277e199",
   "metadata": {},
   "outputs": [],
   "source": [
    "from sklearn.model_selection import train_test_split\n",
    "from sklearn.preprocessing import OneHotEncoder\n",
    "from xgboost import XGBClassifier\n",
    "from sklearn.metrics import accuracy_score\n",
    "from sklearn.model_selection import cross_val_score\n",
    "from sklearn.model_selection import RandomizedSearchCV\n",
    "from imblearn.combine import SMOTETomek\n",
    "from sklearn.metrics import classification_report"
   ]
  },
  {
   "cell_type": "markdown",
   "id": "514e7060",
   "metadata": {},
   "source": [
    "### Primer modelo con la firtLabel "
   ]
  },
  {
   "cell_type": "code",
   "execution_count": 125,
   "id": "292bbfc2",
   "metadata": {},
   "outputs": [],
   "source": [
    "X = df.drop(['fecha','firstLabel','secondLabel','nombre'],axis=1)\n",
    "y = df['firstLabel']\n",
    "#Dummy variable for ‘segment’ column\n",
    "segment = pd.get_dummies(X['segment'], drop_first = True)\n",
    "#Dropping the original ‘segment’\n",
    "X = X.drop(['segment'], axis = 1)\n",
    "#Adding the dummy columns to the dataset\n",
    "X = pd.concat([X,segment], axis = 1)\n",
    "\n",
    "y = y.replace(['GreenFlag', 'WhiteFlag', 'YellowFlag', 'OrangeFlag', 'RedFlag'],[0,1,2,3,4])\n",
    "\n",
    "X_train, X_val, X_test, y_train, y_val, y_test = data_split(X,y,0.7)\n",
    "os_us = SMOTETomek()\n",
    "X_train_, y_train_ = os_us.fit_resample(X_train, y_train)"
   ]
  },
  {
   "cell_type": "code",
   "execution_count": 126,
   "id": "1039196e",
   "metadata": {},
   "outputs": [
    {
     "data": {
      "text/plain": [
       "<AxesSubplot:title={'center':'Balanceados'}>"
      ]
     },
     "execution_count": 126,
     "metadata": {},
     "output_type": "execute_result"
    },
    {
     "data": {
      "image/png": "[encoded data removed]",
      "text/plain": [
       "<Figure size 432x288 with 2 Axes>"
      ]
     },
     "metadata": {
      "needs_background": "light"
     },
     "output_type": "display_data"
    }
   ],
   "source": [
    "plt.show()\n",
    "plt.subplot(221)\n",
    "plt.subplot(1, 2, 1)\n",
    "y_train.value_counts().plot(kind='bar',title='Sin balancear')\n",
    "plt.subplot(1, 2, 2)\n",
    "y_train_.value_counts().plot(kind='bar',title='Balanceados')"
   ]
  },
  {
   "cell_type": "code",
   "execution_count": 127,
   "id": "6f4e51cc",
   "metadata": {},
   "outputs": [
    {
     "name": "stdout",
     "output_type": "stream",
     "text": [
      "accuracy: 0.9463969658659924\n"
     ]
    }
   ],
   "source": [
    "X = df.drop(['fecha','firstLabel','secondLabel','nombre'],axis=1)\n",
    "y = df['firstLabel']\n",
    "#Dummy variable for ‘segment’ column\n",
    "segment = pd.get_dummies(X['segment'], drop_first = True)\n",
    "#Dropping the original ‘segment’\n",
    "X = X.drop(['segment'], axis = 1)\n",
    "#Adding the dummy columns to the dataset\n",
    "X = pd.concat([X,segment], axis = 1)\n",
    "y = y.replace(['GreenFlag', 'WhiteFlag', 'YellowFlag', 'OrangeFlag', 'RedFlag'],[0,1,2,3,4])\n",
    "\n",
    "X_train, X_val, X_test, y_train, y_val, y_test = data_split(X,y,0.7)\n",
    "os_us = SMOTETomek()\n",
    "X_train_, y_train_ = os_us.fit_resample(X_train, y_train)\n",
    "\n",
    "model = XGBClassifier(use_label_encoder=False, eval_metric='mlogloss')\n",
    "model.fit(X_train_, y_train_)\n",
    "y_pred = model.predict(X_test)\n",
    "accuracy = accuracy_score(y_test, y_pred)\n",
    "print('accuracy:',accuracy)"
   ]
  },
  {
   "cell_type": "code",
   "execution_count": 128,
   "id": "db108c7f",
   "metadata": {},
   "outputs": [
    {
     "name": "stdout",
     "output_type": "stream",
     "text": [
      "              precision    recall  f1-score   support\n",
      "\n",
      "           0       0.96      1.00      0.98      3709\n",
      "           1       0.27      0.11      0.16       123\n",
      "           2       0.32      0.12      0.18        57\n",
      "           3       0.45      0.21      0.29        24\n",
      "           4       0.67      0.62      0.64        42\n",
      "\n",
      "    accuracy                           0.95      3955\n",
      "   macro avg       0.53      0.41      0.45      3955\n",
      "weighted avg       0.93      0.95      0.93      3955\n",
      "\n"
     ]
    }
   ],
   "source": [
    "report = classification_report(y_test,y_pred)\n",
    "print(report)"
   ]
  },
  {
   "cell_type": "code",
   "execution_count": 129,
   "id": "f21fec80",
   "metadata": {},
   "outputs": [
    {
     "data": {
      "image/png": "[encoded data removed]",
      "text/plain": [
       "<Figure size 432x288 with 2 Axes>"
      ]
     },
     "metadata": {
      "needs_background": "light"
     },
     "output_type": "display_data"
    }
   ],
   "source": [
    "confu_matrix(y_test,y_pred)"
   ]
  },
  {
   "cell_type": "markdown",
   "id": "0a9fd1ac",
   "metadata": {},
   "source": [
    "### Optimization"
   ]
  },
  {
   "cell_type": "code",
   "execution_count": null,
   "id": "3eff2fd6",
   "metadata": {},
   "outputs": [],
   "source": [
    "X = df.drop(['fecha','firstLabel','secondLabel','nombre'],axis=1)\n",
    "y = df['firstLabel']\n",
    "#Dummy variable for ‘segment’ column\n",
    "segment = pd.get_dummies(X['segment'], drop_first = True)\n",
    "#Dropping the original ‘segment’\n",
    "X = X.drop(['segment'], axis = 1)\n",
    "#Adding the dummy columns to the dataset\n",
    "X = pd.concat([X,segment], axis = 1)\n",
    "y = y.replace(['GreenFlag', 'WhiteFlag', 'YellowFlag', 'OrangeFlag', 'RedFlag'],[0,1,2,3,4])\n",
    "\n",
    "# Split data into train and test sets\n",
    "X_train, X_val, X_test, y_train, y_val, y_test = data_split(X,y,0.7)\n",
    "os_us = SMOTETomek()\n",
    "X_train_, y_train_ = os_us.fit_resample(X_train, y_train)\n",
    "\n",
    "'''\n",
    "# Define the model\n",
    "xgb_model = XGBClassifier()\n",
    "\n",
    "# Define the parameter grid\n",
    "param_grid = {\n",
    "    'max_depth': np.arange(3, 10, 2),\n",
    "    'learning_rate': [0.05, 0.1, 0.15, 0.2],\n",
    "    'n_estimators': [50, 100, 150, 200],\n",
    "    'subsample': [0.6, 0.8, 1.0],\n",
    "    'colsample_bytree': [0.6, 0.8, 1.0],\n",
    "    'reg_alpha': [0, 0.5, 1],\n",
    "    'reg_lambda': [1, 1.5, 2],\n",
    "    'scale_pos_weight': [1, 2, 3, 4],\n",
    "    'min_child_weight': [1, 2, 3]\n",
    "}\n",
    "\n",
    "# Define the random search\n",
    "random_search = RandomizedSearchCV(xgb_model, param_distributions=param_grid, n_iter=100, cv=5, \n",
    "                                   scoring='f1_micro', n_jobs=-1, random_state=42)\n",
    "\n",
    "# Fit the random search\n",
    "random_search.fit(X_train_, y_train_)\n",
    "\n",
    "# Print the best parameters\n",
    "print(random_search.best_params_)\n",
    "'''"
   ]
  },
  {
   "cell_type": "code",
   "execution_count": 134,
   "id": "956ad62a",
   "metadata": {},
   "outputs": [
    {
     "name": "stdout",
     "output_type": "stream",
     "text": [
      "[10:33:48] WARNING: /Users/runner/work/xgboost/xgboost/python-package/build/temp.macosx-10.9-x86_64-cpython-37/xgboost/src/learner.cc:627: \n",
      "Parameters: { \"scale_pos_weight\" } might not be used.\n",
      "\n",
      "  This could be a false alarm, with some parameters getting used by language bindings but\n",
      "  then being mistakenly passed down to XGBoost core, or some parameter actually being used\n",
      "  but getting flagged wrongly here. Please open an issue if you find any such cases.\n",
      "\n",
      "\n",
      "accuracy: 0.9453855878634639\n"
     ]
    }
   ],
   "source": [
    "X = df.drop(['fecha','firstLabel','secondLabel','nombre'],axis=1)\n",
    "y = df['firstLabel']\n",
    "#Dummy variable for ‘segment’ column\n",
    "segment = pd.get_dummies(X['segment'], drop_first = True)\n",
    "#Dropping the original ‘segment’\n",
    "X = X.drop(['segment'], axis = 1)\n",
    "#Adding the dummy columns to the dataset\n",
    "X = pd.concat([X,segment], axis = 1)\n",
    "y = y.replace(['GreenFlag', 'WhiteFlag', 'YellowFlag', 'OrangeFlag', 'RedFlag'],[0,1,2,3,4])\n",
    "\n",
    "X_train, X_val, X_test, y_train, y_val, y_test = data_split(X,y,0.7)\n",
    "os_us = SMOTETomek()\n",
    "X_train_, y_train_ = os_us.fit_resample(X_train, y_train)\n",
    "\n",
    "model = XGBClassifier(subsample=0.8, scale_pos_weight=2, reg_lambda=2, \n",
    "                      reg_alpha=0, n_estimators=100, min_child_weight=1, \n",
    "                      max_depth=9, learning_rate=0.1, colsample_bytree=1.0)\n",
    "model.fit(X_train_, y_train_)\n",
    "y_pred = model.predict(X_test)\n",
    "accuracy = accuracy_score(y_test, y_pred)\n",
    "print('accuracy:',accuracy)"
   ]
  },
  {
   "cell_type": "code",
   "execution_count": 135,
   "id": "9456aa3c",
   "metadata": {},
   "outputs": [
    {
     "name": "stdout",
     "output_type": "stream",
     "text": [
      "              precision    recall  f1-score   support\n",
      "\n",
      "           0       0.96      1.00      0.98      3707\n",
      "           1       0.28      0.10      0.15       121\n",
      "           2       0.20      0.07      0.11        55\n",
      "           3       0.27      0.11      0.15        28\n",
      "           4       0.74      0.57      0.64        44\n",
      "\n",
      "    accuracy                           0.95      3955\n",
      "   macro avg       0.49      0.37      0.41      3955\n",
      "weighted avg       0.92      0.95      0.93      3955\n",
      "\n"
     ]
    }
   ],
   "source": [
    "report = classification_report(y_test,y_pred)\n",
    "print(report)"
   ]
  },
  {
   "cell_type": "code",
   "execution_count": 136,
   "id": "bcfae8e3",
   "metadata": {},
   "outputs": [
    {
     "data": {
      "image/png": "[encoded data removed]",
      "text/plain": [
       "<Figure size 432x288 with 2 Axes>"
      ]
     },
     "metadata": {
      "needs_background": "light"
     },
     "output_type": "display_data"
    }
   ],
   "source": [
    "confu_matrix(y_test,y_pred)"
   ]
  },
  {
   "cell_type": "markdown",
   "id": "1c748bc3",
   "metadata": {},
   "source": [
    "### Segundo modelo con la secondLabel "
   ]
  },
  {
   "cell_type": "code",
   "execution_count": 11,
   "id": "6662319c",
   "metadata": {},
   "outputs": [
    {
     "data": {
      "text/plain": [
       "<AxesSubplot:title={'center':'Balanceados'}>"
      ]
     },
     "execution_count": 11,
     "metadata": {},
     "output_type": "execute_result"
    },
    {
     "data": {
      "image/png": "[encoded data removed]",
      "text/plain": [
       "<Figure size 432x288 with 2 Axes>"
      ]
     },
     "metadata": {
      "needs_background": "light"
     },
     "output_type": "display_data"
    }
   ],
   "source": [
    "X = df.drop(['fecha','firstLabel','secondLabel','nombre'],axis=1)\n",
    "y = df['secondLabel']\n",
    "#Dummy variable for ‘segment’ column\n",
    "segment = pd.get_dummies(X['segment'], drop_first = True)\n",
    "#Dropping the original ‘segment’\n",
    "X = X.drop(['segment'], axis = 1)\n",
    "#Adding the dummy columns to the dataset\n",
    "X = pd.concat([X,segment], axis = 1)\n",
    "\n",
    "#y = y.replace(['GreenFlag', 'WhiteFlag', 'YellowFlag', 'OrangeFlag', 'RedFlag'],[0,1,2,3,4])\n",
    "\n",
    "X_train, X_val, X_test, y_train, y_val, y_test = data_split(X,y,0.7)\n",
    "os_us = SMOTETomek()\n",
    "X_train_, y_train_ = os_us.fit_resample(X_train, y_train)\n",
    "\n",
    "plt.show()\n",
    "plt.subplot(221)\n",
    "plt.subplot(1, 2, 1)\n",
    "y_train.value_counts().plot(kind='bar',title='Sin balancear')\n",
    "plt.subplot(1, 2, 2)\n",
    "y_train_.value_counts().plot(kind='bar',title='Balanceados')"
   ]
  },
  {
   "cell_type": "code",
   "execution_count": 12,
   "id": "e4539a14",
   "metadata": {},
   "outputs": [
    {
     "data": {
      "text/plain": [
       "<AxesSubplot:title={'center':'Balanceados'}>"
      ]
     },
     "execution_count": 12,
     "metadata": {},
     "output_type": "execute_result"
    },
    {
     "data": {
      "image/png": "[encoded data removed]",
      "text/plain": [
       "<Figure size 432x288 with 2 Axes>"
      ]
     },
     "metadata": {
      "needs_background": "light"
     },
     "output_type": "display_data"
    }
   ],
   "source": [
    "X = df.drop(['fecha','firstLabel','secondLabel','nombre'],axis=1)\n",
    "y = df['secondLabel']\n",
    "#Dummy variable for ‘segment’ column\n",
    "segment = pd.get_dummies(X['segment'], drop_first = True)\n",
    "#Dropping the original ‘segment’\n",
    "X = X.drop(['segment'], axis = 1)\n",
    "#Adding the dummy columns to the dataset\n",
    "X = pd.concat([X,segment], axis = 1)\n",
    "\n",
    "y = y.replace(['GreenFlag', 'WhiteFlag', 'YellowFlag', 'OrangeFlag', 'RedFlag'],[0,1,2,3,4])\n",
    "\n",
    "X_train, X_val, X_test, y_train, y_val, y_test = data_split(X,y,0.7)\n",
    "os_us = SMOTETomek()\n",
    "X_train_, y_train_ = os_us.fit_resample(X_train, y_train)\n",
    "\n",
    "plt.show()\n",
    "plt.subplot(221)\n",
    "plt.subplot(1, 2, 1)\n",
    "y_train.value_counts().plot(kind='bar',title='Sin balancear')\n",
    "plt.subplot(1, 2, 2)\n",
    "y_train_.value_counts().plot(kind='bar',title='Balanceados')"
   ]
  },
  {
   "cell_type": "code",
   "execution_count": 28,
   "id": "9995ca08",
   "metadata": {},
   "outputs": [
    {
     "name": "stdout",
     "output_type": "stream",
     "text": [
      "accuracy: 0.9221238938053097\n"
     ]
    }
   ],
   "source": [
    "X = df.drop(['fecha','firstLabel','secondLabel','nombre'],axis=1)\n",
    "y = df['secondLabel']\n",
    "#Dummy variable for ‘segment’ column\n",
    "segment = pd.get_dummies(X['segment'], drop_first = True)\n",
    "#Dropping the original ‘segment’\n",
    "X = X.drop(['segment'], axis = 1)\n",
    "#Adding the dummy columns to the dataset\n",
    "X = pd.concat([X,segment], axis = 1)\n",
    "y = y.replace(['GreenFlag', 'WhiteFlag', 'YellowFlag', 'OrangeFlag', 'RedFlag'],[0,1,2,3,4])\n",
    "\n",
    "X_train, X_val, X_test, y_train, y_val, y_test = data_split(X,y,0.7)\n",
    "os_us = SMOTETomek()\n",
    "X_train_, y_train_ = os_us.fit_resample(X_train, y_train)\n",
    "\n",
    "model = XGBClassifier(use_label_encoder=False, eval_metric='mlogloss')\n",
    "model.fit(X_train_, y_train_)\n",
    "y_pred = model.predict(X_test)\n",
    "accuracy = accuracy_score(y_test, y_pred)\n",
    "print('accuracy:',accuracy)"
   ]
  },
  {
   "cell_type": "code",
   "execution_count": 13,
   "id": "33ffa027",
   "metadata": {},
   "outputs": [
    {
     "data": {
      "text/plain": [
       "2    7079\n",
       "1    6850\n",
       "3    3376\n",
       "4    1135\n",
       "0      14\n",
       "Name: secondLabel, dtype: int64"
      ]
     },
     "execution_count": 13,
     "metadata": {},
     "output_type": "execute_result"
    }
   ],
   "source": [
    "y_train.value_counts()"
   ]
  },
  {
   "cell_type": "code",
   "execution_count": 29,
   "id": "ef645943",
   "metadata": {},
   "outputs": [
    {
     "name": "stdout",
     "output_type": "stream",
     "text": [
      "              precision    recall  f1-score   support\n",
      "\n",
      "           0       1.00      1.00      1.00         2\n",
      "           1       0.99      0.98      0.99      1451\n",
      "           2       0.92      0.95      0.93      1517\n",
      "           3       0.82      0.82      0.82       746\n",
      "           4       0.82      0.71      0.76       239\n",
      "\n",
      "    accuracy                           0.92      3955\n",
      "   macro avg       0.91      0.89      0.90      3955\n",
      "weighted avg       0.92      0.92      0.92      3955\n",
      "\n"
     ]
    }
   ],
   "source": [
    "report_sinOptimizar = classification_report(y_test,y_pred)\n",
    "print(report_sinOptimizar)"
   ]
  },
  {
   "cell_type": "code",
   "execution_count": 35,
   "id": "84c94169",
   "metadata": {},
   "outputs": [
    {
     "data": {
      "image/png": "[encoded data removed]",
      "text/plain": [
       "<Figure size 432x288 with 2 Axes>"
      ]
     },
     "metadata": {
      "needs_background": "light"
     },
     "output_type": "display_data"
    }
   ],
   "source": [
    "confu_matrix(y_test,y_pred)"
   ]
  },
  {
   "cell_type": "markdown",
   "id": "11d9d706",
   "metadata": {},
   "source": [
    "### Optimization"
   ]
  },
  {
   "cell_type": "code",
   "execution_count": null,
   "id": "b073fdf5",
   "metadata": {},
   "outputs": [],
   "source": [
    "X = df.drop(['fecha','firstLabel','secondLabel','nombre'],axis=1)\n",
    "y = df['secondLabel']\n",
    "#Dummy variable for ‘segment’ column\n",
    "segment = pd.get_dummies(X['segment'], drop_first = True)\n",
    "#Dropping the original ‘segment’\n",
    "X = X.drop(['segment'], axis = 1)\n",
    "#Adding the dummy columns to the dataset\n",
    "X = pd.concat([X,segment], axis = 1)\n",
    "y = y.replace(['GreenFlag', 'WhiteFlag', 'YellowFlag', 'OrangeFlag', 'RedFlag'],[0,1,2,3,4])\n",
    "\n",
    "# Split data into train and test sets\n",
    "X_train, X_val, X_test, y_train, y_val, y_test = data_split(X,y,0.7)\n",
    "os_us = SMOTETomek()\n",
    "X_train_, y_train_ = os_us.fit_resample(X_train, y_train)\n",
    "\n",
    "'''\n",
    "# Define the model\n",
    "xgb_model = XGBClassifier()\n",
    "\n",
    "# Define the parameter grid\n",
    "param_grid = {\n",
    "    'max_depth': np.arange(3, 10, 2),\n",
    "    'learning_rate': [0.05, 0.1, 0.15, 0.2],\n",
    "    'n_estimators': [50, 100, 150, 200],\n",
    "    'subsample': [0.6, 0.8, 1.0],\n",
    "    'colsample_bytree': [0.6, 0.8, 1.0],\n",
    "    'reg_alpha': [0, 0.5, 1],\n",
    "    'reg_lambda': [1, 1.5, 2],\n",
    "    'scale_pos_weight': [1, 2, 3, 4],\n",
    "    'min_child_weight': [1, 2, 3]\n",
    "}\n",
    "\n",
    "# Define the random search\n",
    "random_search = RandomizedSearchCV(xgb_model, param_distributions=param_grid, n_iter=100, cv=5, \n",
    "                                   scoring='f1_micro', n_jobs=-1, random_state=42)\n",
    "\n",
    "# Fit the random search\n",
    "random_search.fit(X_train_, y_train_)\n",
    "\n",
    "# Print the best parameters\n",
    "print(random_search.best_params_)\n",
    "'''"
   ]
  },
  {
   "cell_type": "code",
   "execution_count": 150,
   "id": "9a7aa524",
   "metadata": {},
   "outputs": [
    {
     "name": "stdout",
     "output_type": "stream",
     "text": [
      "[10:51:32] WARNING: /Users/runner/work/xgboost/xgboost/python-package/build/temp.macosx-10.9-x86_64-cpython-37/xgboost/src/learner.cc:627: \n",
      "Parameters: { \"scale_pos_weight\" } might not be used.\n",
      "\n",
      "  This could be a false alarm, with some parameters getting used by language bindings but\n",
      "  then being mistakenly passed down to XGBoost core, or some parameter actually being used\n",
      "  but getting flagged wrongly here. Please open an issue if you find any such cases.\n",
      "\n",
      "\n",
      "accuracy: 0.9236409608091024\n"
     ]
    }
   ],
   "source": [
    "X = df.drop(['fecha','firstLabel','secondLabel','nombre'],axis=1)\n",
    "y = df['secondLabel']\n",
    "#Dummy variable for ‘segment’ column\n",
    "segment = pd.get_dummies(X['segment'], drop_first = True)\n",
    "#Dropping the original ‘segment’\n",
    "X = X.drop(['segment'], axis = 1)\n",
    "#Adding the dummy columns to the dataset\n",
    "X = pd.concat([X,segment], axis = 1)\n",
    "y = y.replace(['GreenFlag', 'WhiteFlag', 'YellowFlag', 'OrangeFlag', 'RedFlag'],[0,1,2,3,4])\n",
    "\n",
    "X_train, X_val, X_test, y_train, y_val, y_test = data_split(X,y,0.7)\n",
    "os_us = SMOTETomek()\n",
    "X_train_, y_train_ = os_us.fit_resample(X_train, y_train)\n",
    "\n",
    "model = XGBClassifier(subsample=1.0, scale_pos_weight=3, reg_lambda=2, \n",
    "                      reg_alpha=0.5, n_estimators=150, min_child_weight=1, \n",
    "                      max_depth=7, learning_rate=0.2, colsample_bytree=1.0)\n",
    "model.fit(X_train_, y_train_)\n",
    "y_pred = model.predict(X_test)\n",
    "accuracy = accuracy_score(y_test, y_pred)\n",
    "print('accuracy:',accuracy)"
   ]
  },
  {
   "cell_type": "code",
   "execution_count": 151,
   "id": "81d30b06",
   "metadata": {},
   "outputs": [
    {
     "name": "stdout",
     "output_type": "stream",
     "text": [
      "              precision    recall  f1-score   support\n",
      "\n",
      "           0       0.00      0.00      0.00         1\n",
      "           1       0.99      0.99      0.99      1512\n",
      "           2       0.91      0.96      0.94      1454\n",
      "           3       0.81      0.81      0.81       729\n",
      "           4       0.86      0.64      0.74       259\n",
      "\n",
      "    accuracy                           0.92      3955\n",
      "   macro avg       0.72      0.68      0.70      3955\n",
      "weighted avg       0.92      0.92      0.92      3955\n",
      "\n"
     ]
    },
    {
     "name": "stderr",
     "output_type": "stream",
     "text": [
      "/Users/nestorsanchez/opt/anaconda3/lib/python3.9/site-packages/sklearn/metrics/_classification.py:1334: UndefinedMetricWarning: Precision and F-score are ill-defined and being set to 0.0 in labels with no predicted samples. Use `zero_division` parameter to control this behavior.\n",
      "  _warn_prf(average, modifier, msg_start, len(result))\n",
      "/Users/nestorsanchez/opt/anaconda3/lib/python3.9/site-packages/sklearn/metrics/_classification.py:1334: UndefinedMetricWarning: Precision and F-score are ill-defined and being set to 0.0 in labels with no predicted samples. Use `zero_division` parameter to control this behavior.\n",
      "  _warn_prf(average, modifier, msg_start, len(result))\n",
      "/Users/nestorsanchez/opt/anaconda3/lib/python3.9/site-packages/sklearn/metrics/_classification.py:1334: UndefinedMetricWarning: Precision and F-score are ill-defined and being set to 0.0 in labels with no predicted samples. Use `zero_division` parameter to control this behavior.\n",
      "  _warn_prf(average, modifier, msg_start, len(result))\n"
     ]
    }
   ],
   "source": [
    "report_optimizado = classification_report(y_test,y_pred)\n",
    "print(report_optimizado)"
   ]
  },
  {
   "cell_type": "code",
   "execution_count": 152,
   "id": "ec86d614",
   "metadata": {},
   "outputs": [
    {
     "name": "stdout",
     "output_type": "stream",
     "text": [
      "              precision    recall  f1-score   support\n",
      "\n",
      "           0       0.67      0.50      0.57         4\n",
      "           1       0.99      0.99      0.99      1480\n",
      "           2       0.93      0.95      0.94      1555\n",
      "           3       0.81      0.81      0.81       679\n",
      "           4       0.83      0.68      0.75       237\n",
      "\n",
      "    accuracy                           0.93      3955\n",
      "   macro avg       0.84      0.79      0.81      3955\n",
      "weighted avg       0.93      0.93      0.93      3955\n",
      "\n"
     ]
    }
   ],
   "source": [
    "print(report_sinOptimizar)"
   ]
  },
  {
   "cell_type": "code",
   "execution_count": 147,
   "id": "24baa329",
   "metadata": {},
   "outputs": [
    {
     "data": {
      "image/png": "[encoded data removed]",
      "text/plain": [
       "<Figure size 432x288 with 2 Axes>"
      ]
     },
     "metadata": {
      "needs_background": "light"
     },
     "output_type": "display_data"
    }
   ],
   "source": [
    "confu_matrix(y_test,y_pred)"
   ]
  },
  {
   "cell_type": "code",
   "execution_count": null,
   "id": "d7462d94",
   "metadata": {},
   "outputs": [],
   "source": []
  }
 ],
 "metadata": {
  "kernelspec": {
   "display_name": "Python 3 (ipykernel)",
   "language": "python",
   "name": "python3"
  },
  "language_info": {
   "codemirror_mode": {
    "name": "ipython",
    "version": 3
   },
   "file_extension": ".py",
   "mimetype": "text/x-python",
   "name": "python",
   "nbconvert_exporter": "python",
   "pygments_lexer": "ipython3",
   "version": "3.9.7"
  }
 },
 "nbformat": 4,
 "nbformat_minor": 5
}
